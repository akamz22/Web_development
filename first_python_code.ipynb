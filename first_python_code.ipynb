{
  "nbformat": 4,
  "nbformat_minor": 0,
  "metadata": {
    "colab": {
      "name": "first python code",
      "provenance": [],
      "collapsed_sections": [],
      "authorship_tag": "ABX9TyPPmQ8fcqmudXgyBhRGkXX0",
      "include_colab_link": true
    },
    "kernelspec": {
      "name": "python3",
      "display_name": "Python 3"
    },
    "language_info": {
      "name": "python"
    }
  },
  "cells": [
    {
      "cell_type": "markdown",
      "metadata": {
        "id": "view-in-github",
        "colab_type": "text"
      },
      "source": [
        "<a href=\"https://colab.research.google.com/github/akamz22/Web_development/blob/main/first_python_code.ipynb\" target=\"_parent\"><img src=\"https://colab.research.google.com/assets/colab-badge.svg\" alt=\"Open In Colab\"/></a>"
      ]
    },
    {
      "cell_type": "code",
      "metadata": {
        "colab": {
          "base_uri": "https://localhost:8080/"
        },
        "id": "SVxe-yfJBvGP",
        "outputId": "201cf9ce-3739-49d2-ee5f-c105a0090691"
      },
      "source": [
        "print(\"Hello\")\n",
        "a=10\n",
        "b=20\n",
        "print(a+b)"
      ],
      "execution_count": 18,
      "outputs": [
        {
          "output_type": "stream",
          "text": [
            "Hello\n",
            "30\n"
          ],
          "name": "stdout"
        }
      ]
    },
    {
      "cell_type": "code",
      "metadata": {
        "colab": {
          "base_uri": "https://localhost:8080/"
        },
        "id": "KJtYsOHrFO2x",
        "outputId": "63a5e575-82b1-406a-a22a-8030b501cd56"
      },
      "source": [
        "a=10\n",
        "b=\"Myname\"\n",
        "c=309.5\n",
        "print(a,\" \",b,\" \",\" \",c)\n",
        "print(type(a))\n",
        "print(type(b))\n",
        "print(type(c))\n",
        "print(a,isinstance(a,int))"
      ],
      "execution_count": 16,
      "outputs": [
        {
          "output_type": "stream",
          "text": [
            "10   Myname     309.5\n",
            "<class 'int'>\n",
            "<class 'str'>\n",
            "<class 'float'>\n",
            "10 True\n"
          ],
          "name": "stdout"
        }
      ]
    },
    {
      "cell_type": "code",
      "metadata": {
        "colab": {
          "base_uri": "https://localhost:8080/"
        },
        "id": "ux_sP1rIG-zm",
        "outputId": "23bb0012-21c0-4b33-bab0-0c9d7ad581c9"
      },
      "source": [
        "a=1+2j\n",
        "print(isinstance(a,complex))\n",
        "print(isinstance(a,int))"
      ],
      "execution_count": 20,
      "outputs": [
        {
          "output_type": "stream",
          "text": [
            "True\n",
            "False\n"
          ],
          "name": "stdout"
        }
      ]
    },
    {
      "cell_type": "markdown",
      "metadata": {
        "id": "uxHKpMQCHfHl"
      },
      "source": [
        "variable name starts with alpha or underscore\n",
        "cannot start with digit\n",
        "cannot keep white space\n",
        "case sensetive a A"
      ]
    }
  ]
}